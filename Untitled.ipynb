{
 "cells": [
  {
   "cell_type": "code",
   "execution_count": 61,
   "id": "77de8674",
   "metadata": {},
   "outputs": [],
   "source": [
    "import pandas as pd\n",
    "import os\n",
    "list_a=[]\n",
    "list_b=[]\n",
    "df = pd.read_json('./metadata.cart.2023-05-26.json')\n",
    "filename=df['file_name']\n",
    "for i in range(df.shape[0]):\n",
    "    list_a.append(df['associated_entities'][i][0]['entity_submitter_id'])\n",
    "    list_b.append(df['file_name'][i])\n",
    "aaa=pd.DataFrame({'filename':list_a,'submitter':list_b})\n",
    "aaa.to_csv(\"./metadata\",index=False,header=None,sep=\"\\t\")\n",
    "\n",
    "\n",
    "\n",
    "dict_a={}\n",
    "\n",
    "\n",
    "list_file=os.listdir()\n",
    "with open('metadata') as file:\n",
    "    for line in file:\n",
    "        submitter=line.split(\"\\t\")[0].strip()\n",
    "        filename=line.split(\"\\t\")[1].strip()\n",
    "        dict_a[filename]=submitter\n",
    "\n",
    "        \n",
    "for i in list_file:\n",
    "    if i in dict_a:\n",
    "        os.rename(i,f'{dict_a[i]}.bam')"
   ]
  }
 ],
 "metadata": {
  "kernelspec": {
   "display_name": "Python 3 (ipykernel)",
   "language": "python",
   "name": "python3"
  },
  "language_info": {
   "codemirror_mode": {
    "name": "ipython",
    "version": 3
   },
   "file_extension": ".py",
   "mimetype": "text/x-python",
   "name": "python",
   "nbconvert_exporter": "python",
   "pygments_lexer": "ipython3",
   "version": "3.9.9"
  }
 },
 "nbformat": 4,
 "nbformat_minor": 5
}
